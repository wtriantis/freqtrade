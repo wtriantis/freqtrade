{
 "cells": [
  {
   "cell_type": "code",
   "execution_count": 1,
   "metadata": {},
   "outputs": [],
   "source": [
    "from freqtrade.configuration import Configuration\n",
    "from freqtrade.plot.plotting import  generate_candlestick_graph\n",
    "from freqtrade.data.btanalysis import load_backtest_data, load_backtest_stats\n",
    "import plotly.express as px\n",
    "import plotly.graph_objects as go\n",
    "from plotly.subplots import make_subplots\n",
    "import pandas as pd\n",
    "import json"
   ]
  },
  {
   "cell_type": "code",
   "execution_count": 3,
   "metadata": {},
   "outputs": [],
   "source": [
    "df=pd.read_csv(\"../backtest_results/backtest-result-2024-07-15_18-43-51.json\")\n",
    "#df['date'] = pd.to_datetime(df['date']).dt.date"
   ]
  },
  {
   "cell_type": "code",
   "execution_count": 4,
   "metadata": {},
   "outputs": [
    {
     "data": {
      "text/html": [
       "<div>\n",
       "<style scoped>\n",
       "    .dataframe tbody tr th:only-of-type {\n",
       "        vertical-align: middle;\n",
       "    }\n",
       "\n",
       "    .dataframe tbody tr th {\n",
       "        vertical-align: top;\n",
       "    }\n",
       "\n",
       "    .dataframe thead th {\n",
       "        text-align: right;\n",
       "    }\n",
       "</style>\n",
       "<table border=\"1\" class=\"dataframe\">\n",
       "  <thead>\n",
       "    <tr style=\"text-align: right;\">\n",
       "      <th></th>\n",
       "      <th>{\"strategy\":{\"FreqaiExampleStrategy\":{\"trades\":[{\"pair\":\"ALGO/USDT:USDT\"</th>\n",
       "      <th>stake_amount:199.985</th>\n",
       "      <th>max_stake_amount:199.985</th>\n",
       "      <th>amount:1175.0</th>\n",
       "      <th>open_date:\"2024-01-22 00:03:00+00:00\"</th>\n",
       "      <th>close_date:\"2024-01-22 04:03:00+00:00\"</th>\n",
       "      <th>open_rate:0.1702</th>\n",
       "      <th>close_rate:0.1668</th>\n",
       "      <th>fee_open:0.0005</th>\n",
       "      <th>fee_close:0.0005</th>\n",
       "      <th>...</th>\n",
       "      <th>profit_total_abs:-68.95924226000001.5</th>\n",
       "      <th>profit_total:-0.06895924226000001.5</th>\n",
       "      <th>profit_total_pct:-6.9.4</th>\n",
       "      <th>duration_avg:\"2:55:00\".4</th>\n",
       "      <th>wins:147.5</th>\n",
       "      <th>draws:0.183</th>\n",
       "      <th>losses:131.5</th>\n",
       "      <th>winrate:0.5287769784172662.1</th>\n",
       "      <th>max_drawdown_account:0.08580885495496414.1</th>\n",
       "      <th>max_drawdown_abs:\"85.857\"}]}</th>\n",
       "    </tr>\n",
       "  </thead>\n",
       "  <tbody>\n",
       "  </tbody>\n",
       "</table>\n",
       "<p>0 rows × 12363 columns</p>\n",
       "</div>"
      ],
      "text/plain": [
       "Empty DataFrame\n",
       "Columns: [{\"strategy\":{\"FreqaiExampleStrategy\":{\"trades\":[{\"pair\":\"ALGO/USDT:USDT\", stake_amount:199.985, max_stake_amount:199.985, amount:1175.0, open_date:\"2024-01-22 00:03:00+00:00\", close_date:\"2024-01-22 04:03:00+00:00\", open_rate:0.1702, close_rate:0.1668, fee_open:0.0005, fee_close:0.0005, trade_duration:240, profit_ratio:-0.02095603197226299, profit_abs:-4.1929875, exit_reason:\"roi\", initial_stop_loss_abs:0.1617, initial_stop_loss_ratio:-0.05, stop_loss_abs:0.1617, stop_loss_ratio:-0.05, min_rate:0.1656, max_rate:0.1719, is_open:false, enter_tag:\"long\", leverage:1.0, is_short:false, open_timestamp:1705881780000, close_timestamp:1705896180000, orders:[{\"amount\":1175.0, safe_price:0.1702, ft_order_side:\"buy\", order_filled_timestamp:1705881780000, ft_is_entry:true, ft_order_tag:\"long\"}, {\"amount\":1175.0, safe_price:0.1668, ft_order_side:\"sell\", order_filled_timestamp:1705896180000, ft_is_entry:false, ft_order_tag:\"roi\"}]}, {\"pair\":\"1INCH/USDT:USDT\", stake_amount:199.8129, max_stake_amount:199.8129, amount:493.0, open_date:\"2024-01-22 03:51:00+00:00\", close_date:\"2024-01-22 04:51:00+00:00\", open_rate:0.4053, close_rate:0.4023, fee_open:0.0005.1, fee_close:0.0005.1, trade_duration:60, profit_ratio:0.0064088298775590614, profit_abs:1.2799266, exit_reason:\"exit_signal\", initial_stop_loss_abs:0.4255, initial_stop_loss_ratio:-0.05.1, stop_loss_abs:0.4255, stop_loss_ratio:-0.05.1, min_rate:0.4022, max_rate:0.4064, is_open:false.1, enter_tag:\"short\", leverage:1.0.1, is_short:true, open_timestamp:1705895460000, close_timestamp:1705899060000, orders:[{\"amount\":493.0, safe_price:0.4053, ft_order_side:\"sell\".1, order_filled_timestamp:1705895460000, ft_is_entry:true.1, ft_order_tag:\"short\"}, {\"amount\":493.0, safe_price:0.4023, ft_order_side:\"buy\".1, order_filled_timestamp:1705899060000, ft_is_entry:false.1, ft_order_tag:\"exit_signal\"}]}, {\"pair\":\"ALGO/USDT:USDT\", stake_amount:199.9844, max_stake_amount:199.9844, amount:1204.0, open_date:\"2024-01-22 04:06:00+00:00\", close_date:\"2024-01-22 08:06:00+00:00\", open_rate:0.1661, close_rate:0.1661, fee_open:0.0005.2, fee_close:0.0005.2, trade_duration:240.1, profit_ratio:-0.0010997066166963123, profit_abs:-0.22003413, exit_reason:\"roi\".1, initial_stop_loss_abs:0.1578, initial_stop_loss_ratio:-0.05.2, stop_loss_abs:0.1578, stop_loss_ratio:-0.05.2, min_rate:0.1645, max_rate:0.1682, is_open:false.2, enter_tag:\"long\".1, leverage:1.0.2, is_short:false.1, ...]\n",
       "Index: []\n",
       "\n",
       "[0 rows x 12363 columns]"
      ]
     },
     "execution_count": 4,
     "metadata": {},
     "output_type": "execute_result"
    }
   ],
   "source": [
    "df.head()"
   ]
  }
 ],
 "metadata": {
  "kernelspec": {
   "display_name": "freqtrade",
   "language": "python",
   "name": "python3"
  },
  "language_info": {
   "codemirror_mode": {
    "name": "ipython",
    "version": 3
   },
   "file_extension": ".py",
   "mimetype": "text/x-python",
   "name": "python",
   "nbconvert_exporter": "python",
   "pygments_lexer": "ipython3",
   "version": "3.8.15"
  }
 },
 "nbformat": 4,
 "nbformat_minor": 2
}
